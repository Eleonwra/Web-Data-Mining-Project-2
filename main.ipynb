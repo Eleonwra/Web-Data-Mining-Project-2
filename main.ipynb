{
 "cells": [
  {
   "cell_type": "code",
   "execution_count": 1,
   "metadata": {},
   "outputs": [],
   "source": [
    "import gather_keys_oauth2 as Oauth2\n",
    "import fitbit\n",
    "import pandas as pd \n",
    "import datetime\n",
    "import hashlib\n",
    "import random\n",
    "import json\n",
    "from tqdm import tqdm\n",
    "from datetime import datetime, timedelta\n",
    "\n",
    "CLIENT_ID='23QSLM'\n",
    "CLIENT_SECRET='8ed82541d286c938f9b8bc3f4e46da82'"
   ]
  },
  {
   "cell_type": "code",
   "execution_count": 2,
   "metadata": {},
   "outputs": [
    {
     "name": "stderr",
     "output_type": "stream",
     "text": [
      "[30/Apr/2023:18:10:08] ENGINE Listening for SIGTERM.\n",
      "[30/Apr/2023:18:10:08] ENGINE Listening for SIGHUP.\n",
      "[30/Apr/2023:18:10:08] ENGINE Listening for SIGUSR1.\n",
      "[30/Apr/2023:18:10:08] ENGINE Bus STARTING\n",
      "CherryPy Checker:\n",
      "The Application mounted at '' has an empty config.\n",
      "\n",
      "[30/Apr/2023:18:10:08] ENGINE Started monitor thread 'Autoreloader'.\n",
      "[30/Apr/2023:18:10:08] ENGINE Serving on http://127.0.0.1:8080\n",
      "[30/Apr/2023:18:10:08] ENGINE Bus STARTED\n"
     ]
    },
    {
     "name": "stdout",
     "output_type": "stream",
     "text": [
      "127.0.0.1 - - [30/Apr/2023:18:10:10] \"GET /?code=8556567d310d2ce61de85949773422b8e9e56176&state=ODqoKvrcKVfnrzVW6b5soEVsZhvWZ8 HTTP/1.1\" 200 122 \"\" \"Mozilla/5.0 (Macintosh; Intel Mac OS X 10_15_7) AppleWebKit/605.1.15 (KHTML, like Gecko) Version/16.4 Safari/605.1.15\"\n",
      "127.0.0.1 - - [30/Apr/2023:18:10:10] \"GET /favicon.ico HTTP/1.1\" 200 1406 \"http://127.0.0.1:8080/?code=8556567d310d2ce61de85949773422b8e9e56176&state=ODqoKvrcKVfnrzVW6b5soEVsZhvWZ8\" \"Mozilla/5.0 (Macintosh; Intel Mac OS X 10_15_7) AppleWebKit/605.1.15 (KHTML, like Gecko) Version/16.4 Safari/605.1.15\"\n"
     ]
    },
    {
     "name": "stderr",
     "output_type": "stream",
     "text": [
      "[30/Apr/2023:18:10:11] ENGINE Bus STOPPING\n",
      "[30/Apr/2023:18:10:11] ENGINE HTTP Server cherrypy._cpwsgi_server.CPWSGIServer(('127.0.0.1', 8080)) shut down\n",
      "[30/Apr/2023:18:10:11] ENGINE Stopped thread 'Autoreloader'.\n",
      "[30/Apr/2023:18:10:11] ENGINE Bus STOPPED\n",
      "[30/Apr/2023:18:10:11] ENGINE Bus EXITING\n",
      "[30/Apr/2023:18:10:11] ENGINE Bus EXITED\n",
      "[30/Apr/2023:18:10:11] ENGINE Waiting for child threads to terminate...\n"
     ]
    }
   ],
   "source": [
    "server=Oauth2.OAuth2Server(CLIENT_ID, CLIENT_SECRET)\n",
    "server.browser_authorize()\n",
    "ACCESS_TOKEN=str(server.fitbit.client.session.token['access_token'])\n",
    "REFRESH_TOKEN=str(server.fitbit.client.session.token['refresh_token'])\n",
    "auth2_client=fitbit.Fitbit(CLIENT_ID,CLIENT_SECRET,oauth2=True,access_token=ACCESS_TOKEN,refresh_token=REFRESH_TOKEN)"
   ]
  },
  {
   "cell_type": "code",
   "execution_count": 4,
   "metadata": {},
   "outputs": [],
   "source": [
    "def generate_id():\n",
    "    random_str = str(random.getrandbits(256)).encode('utf-8')\n",
    "    sha2_hash = hashlib.sha256(random_str).hexdigest()\n",
    "    return sha2_hash[:32]"
   ]
  },
  {
   "cell_type": "code",
   "execution_count": 18,
   "metadata": {},
   "outputs": [
    {
     "name": "stderr",
     "output_type": "stream",
     "text": [
      "100%|██████████| 28/28 [00:08<00:00,  3.28it/s]\n"
     ]
    }
   ],
   "source": [
    "startTime = pd.to_datetime('2023-04-01',format='%Y-%m-%d')\n",
    "endTime = pd.to_datetime('2023-04-28',format='%Y-%m-%d')\n",
    "\n",
    "allDates = pd.date_range(start=startTime, end = endTime)\n",
    "\n",
    "pbar = tqdm(total=len(allDates))\n",
    "documents = []\n",
    "\n",
    "for date in allDates:\n",
    "\n",
    "    oneDayData = auth2_client.intraday_time_series('activities/heart',base_date=date,detail_level='15min')\n",
    "\n",
    "    heartRateZones = oneDayData['activities-heart'][0]['value']['heartRateZones']\n",
    "\n",
    "    for zone in heartRateZones:\n",
    "        heartRateZones_dict = {\n",
    "            'id' : generate_id(),\n",
    "            'type' : 'heart-rate-zone',\n",
    "            'data' : {\n",
    "                'date' : date.date().strftime(\"%Y-%m-%d\")\n",
    "            }\n",
    "        }\n",
    "\n",
    "        for key, value in zone.items():\n",
    "            heartRateZones_dict['data'][key] = value\n",
    "\n",
    "        documents.append(heartRateZones_dict)\n",
    "\n",
    "    heartIntraday = oneDayData['activities-heart-intraday']['dataset']\n",
    "\n",
    "    for heartrate in heartIntraday:\n",
    "\n",
    "        # date_obj = datetime.strptime(date, '%Y-%m-%d')\n",
    "        time_obj = datetime.strptime(heartrate['time'], '%H:%M:%S').time()\n",
    "        new_date_obj = datetime.combine(date, time_obj) + timedelta(hours=0)\n",
    "\n",
    "        heartRate_dict = {\n",
    "            'id' : generate_id(),\n",
    "            'type' : 'heart-rate',\n",
    "            'data' : {\n",
    "                'datetime' : datetime.strftime(new_date_obj, '%Y-%m-%d %H:%M:%S'),\n",
    "                'value' : heartrate['value']\n",
    "            }\n",
    "        }\n",
    "\n",
    "        documents.append(heartRate_dict)\n",
    "\n",
    "    pbar.update(1)\n",
    "\n",
    "\n",
    "pbar.close()\n",
    "\n",
    "json_str = json.dumps(documents)\n",
    "with open(f'documents_heart_rate.json', 'w') as f:\n",
    "    f.write(json_str)"
   ]
  },
  {
   "cell_type": "code",
   "execution_count": 21,
   "metadata": {},
   "outputs": [
    {
     "name": "stderr",
     "output_type": "stream",
     "text": [
      "  0%|          | 0/28 [00:00<?, ?it/s]"
     ]
    }
   ],
   "source": [
    "tartTime = pd.to_datetime('2023-04-01',format='%Y-%m-%d')\n",
    "endTime = pd.to_datetime('2023-04-28',format='%Y-%m-%d')\n",
    "\n",
    "allDates = pd.date_range(start=startTime, end = endTime)\n",
    "\n",
    "pbar = tqdm(total=len(allDates))\n",
    "documents = []\n",
    "\n",
    "for date in allDates:\n",
    "\n",
    "    oneDayData = auth2_client.activities(date=date)\n",
    "\n",
    "    activities = oneDayData['activities']\n",
    "\n",
    "    for activity in activities:\n",
    "\n",
    "        activity_dict ={\n",
    "            'id' : generate_id(),\n",
    "            'type' : 'activity',\n",
    "            'data' : activity\n",
    "        }\n",
    "\n",
    "        activity_dict['data']['date'] = date.date().strftime(\"%Y-%m-%d\")\n",
    "        documents.append(activity_dict)\n",
    "    \n",
    "    pbar.update(1)\n",
    "    \n",
    "pbar.close()\n",
    "\n",
    "json_str = json.dumps(documents)\n",
    "with open(f'documents_activities.json', 'w') as f:\n",
    "    f.write(json_str)"
   ]
  },
  {
   "cell_type": "code",
   "execution_count": 9,
   "metadata": {},
   "outputs": [
    {
     "name": "stderr",
     "output_type": "stream",
     "text": [
      "100%|██████████| 28/28 [00:09<00:00,  2.85it/s]\n"
     ]
    },
    {
     "data": {
      "text/html": [
       "<div>\n",
       "<style scoped>\n",
       "    .dataframe tbody tr th:only-of-type {\n",
       "        vertical-align: middle;\n",
       "    }\n",
       "\n",
       "    .dataframe tbody tr th {\n",
       "        vertical-align: top;\n",
       "    }\n",
       "\n",
       "    .dataframe thead th {\n",
       "        text-align: right;\n",
       "    }\n",
       "</style>\n",
       "<table border=\"1\" class=\"dataframe\">\n",
       "  <thead>\n",
       "    <tr style=\"text-align: right;\">\n",
       "      <th></th>\n",
       "      <th>caloriesOut</th>\n",
       "      <th>max</th>\n",
       "      <th>min</th>\n",
       "      <th>minutes</th>\n",
       "      <th>name</th>\n",
       "      <th>date</th>\n",
       "    </tr>\n",
       "  </thead>\n",
       "  <tbody>\n",
       "    <tr>\n",
       "      <th>0</th>\n",
       "      <td>2010.03684</td>\n",
       "      <td>118</td>\n",
       "      <td>30</td>\n",
       "      <td>1432</td>\n",
       "      <td>Out of Range</td>\n",
       "      <td>2023-04-01</td>\n",
       "    </tr>\n",
       "    <tr>\n",
       "      <th>1</th>\n",
       "      <td>42.12984</td>\n",
       "      <td>144</td>\n",
       "      <td>118</td>\n",
       "      <td>8</td>\n",
       "      <td>Fat Burn</td>\n",
       "      <td>2023-04-01</td>\n",
       "    </tr>\n",
       "    <tr>\n",
       "      <th>2</th>\n",
       "      <td>0.00000</td>\n",
       "      <td>176</td>\n",
       "      <td>144</td>\n",
       "      <td>0</td>\n",
       "      <td>Cardio</td>\n",
       "      <td>2023-04-01</td>\n",
       "    </tr>\n",
       "    <tr>\n",
       "      <th>3</th>\n",
       "      <td>0.00000</td>\n",
       "      <td>220</td>\n",
       "      <td>176</td>\n",
       "      <td>0</td>\n",
       "      <td>Peak</td>\n",
       "      <td>2023-04-01</td>\n",
       "    </tr>\n",
       "    <tr>\n",
       "      <th>0</th>\n",
       "      <td>1935.94006</td>\n",
       "      <td>117</td>\n",
       "      <td>30</td>\n",
       "      <td>1421</td>\n",
       "      <td>Out of Range</td>\n",
       "      <td>2023-04-02</td>\n",
       "    </tr>\n",
       "    <tr>\n",
       "      <th>...</th>\n",
       "      <td>...</td>\n",
       "      <td>...</td>\n",
       "      <td>...</td>\n",
       "      <td>...</td>\n",
       "      <td>...</td>\n",
       "      <td>...</td>\n",
       "    </tr>\n",
       "    <tr>\n",
       "      <th>3</th>\n",
       "      <td>0.00000</td>\n",
       "      <td>220</td>\n",
       "      <td>175</td>\n",
       "      <td>0</td>\n",
       "      <td>Peak</td>\n",
       "      <td>2023-04-27</td>\n",
       "    </tr>\n",
       "    <tr>\n",
       "      <th>0</th>\n",
       "      <td>2074.52506</td>\n",
       "      <td>113</td>\n",
       "      <td>30</td>\n",
       "      <td>1432</td>\n",
       "      <td>Out of Range</td>\n",
       "      <td>2023-04-28</td>\n",
       "    </tr>\n",
       "    <tr>\n",
       "      <th>1</th>\n",
       "      <td>40.55921</td>\n",
       "      <td>140</td>\n",
       "      <td>113</td>\n",
       "      <td>8</td>\n",
       "      <td>Fat Burn</td>\n",
       "      <td>2023-04-28</td>\n",
       "    </tr>\n",
       "    <tr>\n",
       "      <th>2</th>\n",
       "      <td>0.00000</td>\n",
       "      <td>175</td>\n",
       "      <td>140</td>\n",
       "      <td>0</td>\n",
       "      <td>Cardio</td>\n",
       "      <td>2023-04-28</td>\n",
       "    </tr>\n",
       "    <tr>\n",
       "      <th>3</th>\n",
       "      <td>0.00000</td>\n",
       "      <td>220</td>\n",
       "      <td>175</td>\n",
       "      <td>0</td>\n",
       "      <td>Peak</td>\n",
       "      <td>2023-04-28</td>\n",
       "    </tr>\n",
       "  </tbody>\n",
       "</table>\n",
       "<p>112 rows × 6 columns</p>\n",
       "</div>"
      ],
      "text/plain": [
       "    caloriesOut  max  min  minutes          name       date\n",
       "0    2010.03684  118   30     1432  Out of Range 2023-04-01\n",
       "1      42.12984  144  118        8      Fat Burn 2023-04-01\n",
       "2       0.00000  176  144        0        Cardio 2023-04-01\n",
       "3       0.00000  220  176        0          Peak 2023-04-01\n",
       "0    1935.94006  117   30     1421  Out of Range 2023-04-02\n",
       "..          ...  ...  ...      ...           ...        ...\n",
       "3       0.00000  220  175        0          Peak 2023-04-27\n",
       "0    2074.52506  113   30     1432  Out of Range 2023-04-28\n",
       "1      40.55921  140  113        8      Fat Burn 2023-04-28\n",
       "2       0.00000  175  140        0        Cardio 2023-04-28\n",
       "3       0.00000  220  175        0          Peak 2023-04-28\n",
       "\n",
       "[112 rows x 6 columns]"
      ]
     },
     "execution_count": 9,
     "metadata": {},
     "output_type": "execute_result"
    }
   ],
   "source": [
    "startTime = pd.to_datetime('2023-04-01',format='%Y-%m-%d')\n",
    "endTime = pd.to_datetime('2023-04-28',format='%Y-%m-%d')\n",
    "\n",
    "allDates = pd.date_range(start=startTime, end = endTime)\n",
    "\n",
    "pbar = tqdm(total=len(allDates))\n",
    "df_list = []\n",
    "\n",
    "for date in allDates:\n",
    "\n",
    "    oneDayData = auth2_client.intraday_time_series('activities/heart',base_date=date,detail_level='15min')\n",
    "\n",
    "    df = pd.DataFrame(oneDayData['activities-heart'][0]['value']['heartRateZones'])\n",
    "    df['date'] = date\n",
    "    df_list.append(df)\n",
    "\n",
    "    pbar.update(1)\n",
    "    \n",
    "pbar.close()\n",
    "final_df = pd.concat(df_list, axis = 0)\n",
    "final_df.to_csv('heartRateZones.csv', index=False)\n",
    "final_df"
   ]
  },
  {
   "cell_type": "code",
   "execution_count": 13,
   "metadata": {},
   "outputs": [
    {
     "name": "stdout",
     "output_type": "stream",
     "text": [
      "{'activities': [{'activityId': 90013, 'activityParentId': 90013, 'activityParentName': 'Walk', 'calories': 363, 'description': 'Walking less than 2 mph, strolling very slowly', 'duration': 5171000, 'hasActiveZoneMinutes': True, 'hasStartTime': True, 'isFavorite': False, 'lastModified': '2023-04-29T16:06:01.000Z', 'logId': 55439337001, 'name': 'Walk', 'startDate': '2023-04-28', 'startTime': '20:49', 'steps': 6269}], 'goals': {'activeMinutes': 30, 'caloriesOut': 2232, 'distance': 5, 'floors': 10, 'steps': 10000}, 'summary': {'activeScore': -1, 'activityCalories': 1017, 'caloriesBMR': 1330, 'caloriesOut': 2115, 'distances': [{'activity': 'total', 'distance': 4.44}, {'activity': 'tracker', 'distance': 4.44}, {'activity': 'loggedActivities', 'distance': 0}, {'activity': 'veryActive', 'distance': 0.37}, {'activity': 'moderatelyActive', 'distance': 2.05}, {'activity': 'lightlyActive', 'distance': 2.01}, {'activity': 'sedentaryActive', 'distance': 0}], 'elevation': 250, 'fairlyActiveMinutes': 53, 'floors': 25, 'heartRateZones': [{'caloriesOut': 1777.86077, 'max': 113, 'min': 30, 'minutes': 1355, 'name': 'Out of Range'}, {'caloriesOut': 337.2235, 'max': 140, 'min': 113, 'minutes': 85, 'name': 'Fat Burn'}, {'caloriesOut': 0, 'max': 175, 'min': 140, 'minutes': 0, 'name': 'Cardio'}, {'caloriesOut': 0, 'max': 220, 'min': 175, 'minutes': 0, 'name': 'Peak'}], 'lightlyActiveMinutes': 239, 'marginalCalories': 517, 'restingHeartRate': 58, 'sedentaryMinutes': 593, 'steps': 10343, 'veryActiveMinutes': 9}}\n"
     ]
    },
    {
     "data": {
      "text/plain": [
       "[{'activityId': 90013,\n",
       "  'activityParentId': 90013,\n",
       "  'activityParentName': 'Walk',\n",
       "  'calories': 363,\n",
       "  'description': 'Walking less than 2 mph, strolling very slowly',\n",
       "  'duration': 5171000,\n",
       "  'hasActiveZoneMinutes': True,\n",
       "  'hasStartTime': True,\n",
       "  'isFavorite': False,\n",
       "  'lastModified': '2023-04-29T16:06:01.000Z',\n",
       "  'logId': 55439337001,\n",
       "  'name': 'Walk',\n",
       "  'startDate': '2023-04-28',\n",
       "  'startTime': '20:49',\n",
       "  'steps': 6269}]"
      ]
     },
     "execution_count": 13,
     "metadata": {},
     "output_type": "execute_result"
    }
   ],
   "source": [
    "date = pd.to_datetime('2023-04-28',format='%Y-%m-%d')\n",
    "oneDayData = auth2_client.activities(date=date)\n",
    "print(oneDayData)\n",
    "activities = oneDayData['activities']\n",
    "activities"
   ]
  }
 ],
 "metadata": {
  "kernelspec": {
   "display_name": "venv",
   "language": "python",
   "name": "python3"
  },
  "language_info": {
   "codemirror_mode": {
    "name": "ipython",
    "version": 3
   },
   "file_extension": ".py",
   "mimetype": "text/x-python",
   "name": "python",
   "nbconvert_exporter": "python",
   "pygments_lexer": "ipython3",
   "version": "3.9.16"
  },
  "orig_nbformat": 4
 },
 "nbformat": 4,
 "nbformat_minor": 2
}
